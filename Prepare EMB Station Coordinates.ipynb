{
 "cells": [
  {
   "cell_type": "code",
   "execution_count": 1,
   "id": "5afaf912",
   "metadata": {},
   "outputs": [],
   "source": [
    "import re\n",
    "import json\n",
    "import pandas"
   ]
  },
  {
   "cell_type": "code",
   "execution_count": 2,
   "id": "831d7c7e",
   "metadata": {},
   "outputs": [
    {
     "data": {
      "text/html": [
       "<div>\n",
       "<style scoped>\n",
       "    .dataframe tbody tr th:only-of-type {\n",
       "        vertical-align: middle;\n",
       "    }\n",
       "\n",
       "    .dataframe tbody tr th {\n",
       "        vertical-align: top;\n",
       "    }\n",
       "\n",
       "    .dataframe thead th {\n",
       "        text-align: right;\n",
       "    }\n",
       "</style>\n",
       "<table border=\"1\" class=\"dataframe\">\n",
       "  <thead>\n",
       "    <tr style=\"text-align: right;\">\n",
       "      <th></th>\n",
       "      <th>name</th>\n",
       "      <th>address</th>\n",
       "      <th>north</th>\n",
       "      <th>east</th>\n",
       "      <th>area_type</th>\n",
       "      <th>station_type</th>\n",
       "      <th>station_type_desc</th>\n",
       "    </tr>\n",
       "  </thead>\n",
       "  <tbody>\n",
       "    <tr>\n",
       "      <th>0</th>\n",
       "      <td>Pasay</td>\n",
       "      <td>PAL Cmpd., Andrews Ave., Brgy. 184, Zone 19, P...</td>\n",
       "      <td>14º 31’ 42”</td>\n",
       "      <td>121º 0’ 29”</td>\n",
       "      <td>Roadside, Paved Road</td>\n",
       "      <td>1</td>\n",
       "      <td>CAMS – Particulate Matter System (PMS)</td>\n",
       "    </tr>\n",
       "    <tr>\n",
       "      <th>1</th>\n",
       "      <td>Marikina</td>\n",
       "      <td>Hall of Justice, Open Ground, Marikina City Ha...</td>\n",
       "      <td>14º 38’ 0.28”</td>\n",
       "      <td>121º 05’ 59.4”</td>\n",
       "      <td>Roadside, Paved Road</td>\n",
       "      <td>1</td>\n",
       "      <td>CAMS – Particulate Matter System (PMS)</td>\n",
       "    </tr>\n",
       "    <tr>\n",
       "      <th>2</th>\n",
       "      <td>Muntinlupa</td>\n",
       "      <td>Muntinlupa Bilibid Prison open ground, Muntinl...</td>\n",
       "      <td>14º 23’ 0.58”</td>\n",
       "      <td>121º 2’ 1.23”</td>\n",
       "      <td>General Ambient, Unpaved Road</td>\n",
       "      <td>1</td>\n",
       "      <td>CAMS – Particulate Matter System (PMS)</td>\n",
       "    </tr>\n",
       "    <tr>\n",
       "      <th>3</th>\n",
       "      <td>Mandaluyong</td>\n",
       "      <td>Plaza Hardin, Martinez Highway, Addition Hill,...</td>\n",
       "      <td>14º 35’ 0.228”</td>\n",
       "      <td>121º 2’ 12.54”</td>\n",
       "      <td>Roadside, Paved Road</td>\n",
       "      <td>1</td>\n",
       "      <td>CAMS – Particulate Matter System (PMS)</td>\n",
       "    </tr>\n",
       "    <tr>\n",
       "      <th>4</th>\n",
       "      <td>San Juan City</td>\n",
       "      <td>Pinaglabanan Shrine along Pinaglabanan St., Sa...</td>\n",
       "      <td>14° 36' 20.01\"</td>\n",
       "      <td>121° 1' 56.06\"</td>\n",
       "      <td>Roadside, Paved Road</td>\n",
       "      <td>1</td>\n",
       "      <td>CAMS – Particulate Matter System (PMS)</td>\n",
       "    </tr>\n",
       "  </tbody>\n",
       "</table>\n",
       "</div>"
      ],
      "text/plain": [
       "            name                                            address  \\\n",
       "0          Pasay  PAL Cmpd., Andrews Ave., Brgy. 184, Zone 19, P...   \n",
       "1       Marikina  Hall of Justice, Open Ground, Marikina City Ha...   \n",
       "2     Muntinlupa  Muntinlupa Bilibid Prison open ground, Muntinl...   \n",
       "3    Mandaluyong  Plaza Hardin, Martinez Highway, Addition Hill,...   \n",
       "4  San Juan City  Pinaglabanan Shrine along Pinaglabanan St., Sa...   \n",
       "\n",
       "            north            east                      area_type  \\\n",
       "0     14º 31’ 42”     121º 0’ 29”           Roadside, Paved Road   \n",
       "1   14º 38’ 0.28”  121º 05’ 59.4”           Roadside, Paved Road   \n",
       "2   14º 23’ 0.58”   121º 2’ 1.23”  General Ambient, Unpaved Road   \n",
       "3  14º 35’ 0.228”  121º 2’ 12.54”           Roadside, Paved Road   \n",
       "4  14° 36' 20.01\"  121° 1' 56.06\"           Roadside, Paved Road   \n",
       "\n",
       "   station_type                       station_type_desc  \n",
       "0             1  CAMS – Particulate Matter System (PMS)  \n",
       "1             1  CAMS – Particulate Matter System (PMS)  \n",
       "2             1  CAMS – Particulate Matter System (PMS)  \n",
       "3             1  CAMS – Particulate Matter System (PMS)  \n",
       "4             1  CAMS – Particulate Matter System (PMS)  "
      ]
     },
     "execution_count": 2,
     "metadata": {},
     "output_type": "execute_result"
    }
   ],
   "source": [
    "stations_df = pandas.read_csv(\"data/EMB - NCR Station Coordinates.csv\")\n",
    "stations_df[:5]"
   ]
  },
  {
   "cell_type": "code",
   "execution_count": 3,
   "id": "82994965",
   "metadata": {},
   "outputs": [],
   "source": [
    "stations_complete_df = stations_df[~stations_df['north'].isnull()]"
   ]
  },
  {
   "cell_type": "code",
   "execution_count": 4,
   "id": "2dfdda66",
   "metadata": {
    "scrolled": false
   },
   "outputs": [
    {
     "name": "stderr",
     "output_type": "stream",
     "text": [
      "/tmp/ipykernel_5714/2898849022.py:7: SettingWithCopyWarning: \n",
      "A value is trying to be set on a copy of a slice from a DataFrame.\n",
      "Try using .loc[row_indexer,col_indexer] = value instead\n",
      "\n",
      "See the caveats in the documentation: https://pandas.pydata.org/pandas-docs/stable/user_guide/indexing.html#returning-a-view-versus-a-copy\n",
      "  stations_complete_df['lat'] = stations_complete_df['north'].apply(dms2dd)\n",
      "/tmp/ipykernel_5714/2898849022.py:8: SettingWithCopyWarning: \n",
      "A value is trying to be set on a copy of a slice from a DataFrame.\n",
      "Try using .loc[row_indexer,col_indexer] = value instead\n",
      "\n",
      "See the caveats in the documentation: https://pandas.pydata.org/pandas-docs/stable/user_guide/indexing.html#returning-a-view-versus-a-copy\n",
      "  stations_complete_df['lon'] = stations_complete_df['east'].apply(dms2dd)\n"
     ]
    }
   ],
   "source": [
    "def dms2dd(s):\n",
    "    s = s.replace(\" \", \"\")\n",
    "    sp = re.split('[°\\'\"º\\’”]+', s)\n",
    "    dd = float(sp[0]) + float(sp[1])/60 + float(sp[2])/(60*60);\n",
    "    return dd\n",
    "\n",
    "stations_complete_df['lat'] = stations_complete_df['north'].apply(dms2dd)\n",
    "stations_complete_df['lon'] = stations_complete_df['east'].apply(dms2dd)\n",
    "stations_complete_df.index = stations_complete_df.index + 1"
   ]
  },
  {
   "cell_type": "markdown",
   "id": "d67234bc",
   "metadata": {},
   "source": [
    "## Create fixtures"
   ]
  },
  {
   "cell_type": "code",
   "execution_count": 5,
   "id": "3ff51982",
   "metadata": {},
   "outputs": [],
   "source": [
    "stations_fixture = []\n",
    "\n",
    "for index, row in stations_complete_df.iterrows():\n",
    "    stations_fixture.append({\n",
    "        'model': 'core.station',\n",
    "        'pk': index,\n",
    "        'fields': {\n",
    "            'name': row['name'],\n",
    "            'description': row['address'],\n",
    "            'address': row['address'],\n",
    "            'location': \"POINT ({} {})\".format(row['lon'], row['lat']),\n",
    "            'area_type': row['area_type'],\n",
    "            'station_type': row['station_type'],\n",
    "            'is_published': True\n",
    "        }\n",
    "    })\n",
    "    \n",
    "with open('data/stations.json', 'w') as f:\n",
    "    json.dump(stations_fixture, f)"
   ]
  },
  {
   "cell_type": "markdown",
   "id": "5b755f08",
   "metadata": {},
   "source": [
    "### Create CSV"
   ]
  },
  {
   "cell_type": "code",
   "execution_count": 6,
   "id": "3071348d",
   "metadata": {},
   "outputs": [],
   "source": [
    "stations_complete_df.to_csv(\"data/output/emb/stations.csv\")"
   ]
  }
 ],
 "metadata": {
  "kernelspec": {
   "display_name": "Python 3 (ipykernel)",
   "language": "python",
   "name": "python3"
  },
  "language_info": {
   "codemirror_mode": {
    "name": "ipython",
    "version": 3
   },
   "file_extension": ".py",
   "mimetype": "text/x-python",
   "name": "python",
   "nbconvert_exporter": "python",
   "pygments_lexer": "ipython3",
   "version": "3.10.4"
  }
 },
 "nbformat": 4,
 "nbformat_minor": 5
}
